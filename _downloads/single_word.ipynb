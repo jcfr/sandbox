{
  "nbformat": 4,
  "metadata": {
    "language_info": {
      "version": "3.5.0",
      "mimetype": "text/x-python",
      "name": "python",
      "nbconvert_exporter": "python",
      "codemirror_mode": {
        "version": 3,
        "name": "ipython"
      },
      "file_extension": ".py",
      "pygments_lexer": "ipython3"
    },
    "kernelspec": {
      "language": "python",
      "display_name": "Python 3",
      "name": "python3"
    }
  },
  "cells": [
    {
      "outputs": [],
      "source": [
        "%matplotlib inline"
      ],
      "cell_type": "code",
      "metadata": {
        "collapsed": false
      },
      "execution_count": null
    },
    {
      "source": [
        "\nSingle Word\n===========\n\nMake a word cloud with a single word that's repeated.\n\n"
      ],
      "cell_type": "markdown",
      "metadata": {}
    },
    {
      "outputs": [],
      "source": [
        "import numpy as np\nimport matplotlib.pyplot as plt\nfrom wordcloud import WordCloud\n\ntext = \"square\"\n\nx, y = np.ogrid[:300, :300]\n\nmask = (x - 150) ** 2 + (y - 150) ** 2 > 130 ** 2\nmask = 255 * mask.astype(int)\n\n\nwc = WordCloud(repeat=True, mask=mask).generate(text)\n\nplt.imshow(wc)\nplt.figure()\nplt.imshow(mask)\nplt.show()"
      ],
      "cell_type": "code",
      "metadata": {
        "collapsed": false
      },
      "execution_count": null
    }
  ],
  "nbformat_minor": 0
}