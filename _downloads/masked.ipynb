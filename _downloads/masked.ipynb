{
  "metadata": {
    "kernelspec": {
      "language": "python",
      "display_name": "Python 3",
      "name": "python3"
    },
    "language_info": {
      "nbconvert_exporter": "python",
      "file_extension": ".py",
      "codemirror_mode": {
        "version": 3,
        "name": "ipython"
      },
      "version": "3.5.0",
      "mimetype": "text/x-python",
      "name": "python",
      "pygments_lexer": "ipython3"
    }
  },
  "nbformat_minor": 0,
  "cells": [
    {
      "cell_type": "code",
      "metadata": {
        "collapsed": false
      },
      "outputs": [],
      "source": [
        "%matplotlib inline"
      ],
      "execution_count": null
    },
    {
      "cell_type": "markdown",
      "metadata": {},
      "source": [
        "\nMasked wordcloud\n================\n\nUsing a mask you can generate wordclouds in arbitrary shapes.\n\n"
      ]
    },
    {
      "cell_type": "code",
      "metadata": {
        "collapsed": false
      },
      "outputs": [],
      "source": [
        "from os import path\nfrom PIL import Image\nimport numpy as np\nimport matplotlib.pyplot as plt\nimport os\n\nfrom wordcloud import WordCloud, STOPWORDS\n\n# get data directory (using getcwd() is needed to support running example in generated IPython notebook)\nd = path.dirname(__file__) if \"__file__\" in locals() else os.getcwd()\n\n# Read the whole text.\ntext = open(path.join(d, 'alice.txt')).read()\n\n# read the mask image\n# taken from\n# http://www.stencilry.org/stencils/movies/alice%20in%20wonderland/255fk.jpg\nalice_mask = np.array(Image.open(path.join(d, \"alice_mask.png\")))\n\nstopwords = set(STOPWORDS)\nstopwords.add(\"said\")\n\nwc = WordCloud(background_color=\"white\", max_words=2000, mask=alice_mask,\n               stopwords=stopwords, contour_width=3, contour_color='steelblue')\n\n# generate word cloud\nwc.generate(text)\n\n# store to file\nwc.to_file(path.join(d, \"alice.png\"))\n\n# show\nplt.imshow(wc, interpolation='bilinear')\nplt.axis(\"off\")\nplt.figure()\nplt.imshow(alice_mask, cmap=plt.cm.gray, interpolation='bilinear')\nplt.axis(\"off\")\nplt.show()"
      ],
      "execution_count": null
    }
  ],
  "nbformat": 4
}